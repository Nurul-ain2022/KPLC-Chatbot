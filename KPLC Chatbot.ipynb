{
 "cells": [
  {
   "cell_type": "code",
   "execution_count": 1,
   "metadata": {},
   "outputs": [],
   "source": [
    "import pandas as pd\n",
    "import nltk\n",
    "from nltk.tokenize import word_tokenize\n",
    "from nltk.corpus import stopwords\n",
    "from nltk.stem import WordNetLemmatizer"
   ]
  },
  {
   "cell_type": "code",
   "execution_count": 2,
   "metadata": {},
   "outputs": [
    {
     "name": "stdout",
     "output_type": "stream",
     "text": [
      "<class 'pandas.core.frame.DataFrame'>\n",
      "RangeIndex: 50001 entries, 0 to 50000\n",
      "Data columns (total 6 columns):\n",
      " #   Column              Non-Null Count  Dtype         \n",
      "---  ------              --------------  -----         \n",
      " 0   Unnamed: 0          50001 non-null  int64         \n",
      " 1   Date Created        50001 non-null  datetime64[ns]\n",
      " 2   Number of Likes     50001 non-null  int64         \n",
      " 3   Number of retweets  50001 non-null  int64         \n",
      " 4   Source of Tweet     50001 non-null  object        \n",
      " 5   Tweets              50001 non-null  object        \n",
      "dtypes: datetime64[ns](1), int64(3), object(2)\n",
      "memory usage: 2.3+ MB\n"
     ]
    }
   ],
   "source": [
    "tweets = pd.read_excel('TwitterData.xlsx')\n",
    "tweets.info()"
   ]
  },
  {
   "cell_type": "code",
   "execution_count": 3,
   "metadata": {
    "scrolled": true
   },
   "outputs": [
    {
     "name": "stdout",
     "output_type": "stream",
     "text": [
      "       Unnamed: 0        Date Created  Number of Likes  Number of retweets  \\\n",
      "0               0 2023-03-31 15:33:29                0                   0   \n",
      "1               1 2023-03-31 15:31:57                0                   0   \n",
      "2               2 2023-03-31 15:30:05                0                   0   \n",
      "3               3 2023-03-31 15:22:19                1                   0   \n",
      "4               4 2023-03-31 15:18:01                0                   0   \n",
      "...           ...                 ...              ...                 ...   \n",
      "49996       49996 2023-01-19 12:00:55                0                   0   \n",
      "49997       49997 2023-01-19 11:57:27                0                   0   \n",
      "49998       49998 2023-01-19 11:56:36                1                   1   \n",
      "49999       49999 2023-01-19 11:56:23                0                   0   \n",
      "50000       50000 2023-01-19 11:56:08                0                   0   \n",
      "\n",
      "           Source of Tweet                                             Tweets  \n",
      "0      Twitter for Android   Good evening... More than 24 hours later we s...  \n",
      "1      Twitter for Android   Please fastruck.I have been sharing  similar ...  \n",
      "2      Twitter for Android   no lights for three  days in Kiambu now and t...  \n",
      "3      Twitter for Android   Hi, no power acc 54600459462 Hillcrest court ...  \n",
      "4      Twitter for Android   what could be the problem, persistent black o...  \n",
      "...                    ...                                                ...  \n",
      "49996  Twitter for Android   Last year I filled a reversal form and up to ...  \n",
      "49997      Twitter Web App   power outage \\na/c  no 54400318124  kindly as...  \n",
      "49998  Twitter for Android   @ca_sharz Kindly sort this issue. It affects ...  \n",
      "49999  Twitter for Android   33534932\\n33534934\\n\\nWant to pay for this tw...  \n",
      "50000  Twitter for Android   There is still no power ,food is going bad an...  \n",
      "\n",
      "[50001 rows x 6 columns]\n"
     ]
    }
   ],
   "source": [
    "# Remove \"@KenyaPower_Care\" from the tweets column\n",
    "tweets['Tweets'] = tweets['Tweets'].str.replace('@KenyaPower_Care', '')\n",
    "\n",
    "# Print the updated DataFrame\n",
    "print(tweets)"
   ]
  },
  {
   "cell_type": "code",
   "execution_count": 4,
   "metadata": {},
   "outputs": [
    {
     "name": "stdout",
     "output_type": "stream",
     "text": [
      "       Unnamed: 0        Date Created  Number of Likes  Number of retweets  \\\n",
      "0               0 2023-03-31 15:33:29                0                   0   \n",
      "2               2 2023-03-31 15:30:05                0                   0   \n",
      "3               3 2023-03-31 15:22:19                1                   0   \n",
      "4               4 2023-03-31 15:18:01                0                   0   \n",
      "5               5 2023-03-31 15:16:18                0                   0   \n",
      "...           ...                 ...              ...                 ...   \n",
      "49996       49996 2023-01-19 12:00:55                0                   0   \n",
      "49997       49997 2023-01-19 11:57:27                0                   0   \n",
      "49998       49998 2023-01-19 11:56:36                1                   1   \n",
      "49999       49999 2023-01-19 11:56:23                0                   0   \n",
      "50000       50000 2023-01-19 11:56:08                0                   0   \n",
      "\n",
      "           Source of Tweet                                             Tweets  \n",
      "0      Twitter for Android   Good evening... More than 24 hours later we s...  \n",
      "2      Twitter for Android   no lights for three  days in Kiambu now and t...  \n",
      "3      Twitter for Android   Hi, no power acc 54600459462 Hillcrest court ...  \n",
      "4      Twitter for Android   what could be the problem, persistent black o...  \n",
      "5      Twitter for Android   lights out acc no 14228420361. Please address...  \n",
      "...                    ...                                                ...  \n",
      "49996  Twitter for Android   Last year I filled a reversal form and up to ...  \n",
      "49997      Twitter Web App   power outage \\na/c  no 54400318124  kindly as...  \n",
      "49998  Twitter for Android   @ca_sharz Kindly sort this issue. It affects ...  \n",
      "49999  Twitter for Android   33534932\\n33534934\\n\\nWant to pay for this tw...  \n",
      "50000  Twitter for Android   There is still no power ,food is going bad an...  \n",
      "\n",
      "[47882 rows x 6 columns]\n"
     ]
    }
   ],
   "source": [
    "# Create a Boolean mask indicating which rows contain links\n",
    "has_links = tweets['Tweets'].str.contains('http')\n",
    "\n",
    "# Drop the rows with links from the DataFrame\n",
    "tweets = tweets[~has_links]\n",
    "\n",
    "# Print the updated DataFrame\n",
    "print(tweets)"
   ]
  },
  {
   "cell_type": "code",
   "execution_count": 5,
   "metadata": {},
   "outputs": [
    {
     "name": "stdout",
     "output_type": "stream",
     "text": [
      "[\" Good evening... More than 24 hours later we still don't have power\"\n",
      " ' no lights for three  days in Kiambu now and the issue has been reported.\\nMtr no. 21413729'\n",
      " ' Hi, no power acc 54600459462 Hillcrest court Karen, please assist' ...\n",
      " ' @ca_sharz Kindly sort this issue. It affects all residents of TRM drive :('\n",
      " ' 33534932\\n33534934\\n\\nWant to pay for this two accounts via mpesa'\n",
      " ' There is still no power ,food is going bad and the way had just done one week meal prep.😭']\n"
     ]
    }
   ],
   "source": [
    "unique_tweets2 = tweets['Tweets'].unique()\n",
    "\n",
    "# Print the unique tweets\n",
    "print(unique_tweets2)"
   ]
  },
  {
   "cell_type": "code",
   "execution_count": 6,
   "metadata": {
    "scrolled": true
   },
   "outputs": [
    {
     "name": "stdout",
     "output_type": "stream",
     "text": [
      "0         Good evening... More than 24 hours later we s...\n",
      "2         no lights for three  days in Kiambu now and t...\n",
      "3         Hi, no power acc 54600459462 Hillcrest court ...\n",
      "4         what could be the problem, persistent black o...\n",
      "5         lights out acc no 14228420361. Please address...\n",
      "                               ...                        \n",
      "49996     Last year I filled a reversal form and up to ...\n",
      "49997     power outage \\na/c  no 54400318124  kindly as...\n",
      "49998     @ca_sharz Kindly sort this issue. It affects ...\n",
      "49999     33534932\\n33534934\\n\\nWant to pay for this tw...\n",
      "50000     There is still no power ,food is going bad an...\n",
      "Name: Tweets, Length: 47882, dtype: object\n"
     ]
    }
   ],
   "source": [
    "keywords = tweets['Tweets'].str.contains('power|hakuna|stima|electricity|meter|billing|mvua|lights|', case=False, regex=True)\n",
    "# Get the tweets without the keywords\n",
    "has_keywords = tweets[keywords]['Tweets']\n",
    "\n",
    "# Print the tweets\n",
    "print(has_keywords)"
   ]
  },
  {
   "cell_type": "code",
   "execution_count": 7,
   "metadata": {},
   "outputs": [
    {
     "name": "stdout",
     "output_type": "stream",
     "text": [
      "       Unnamed: 0        Date Created  Number of Likes  Number of retweets  \\\n",
      "0               0 2023-03-31 15:33:29                0                   0   \n",
      "2               2 2023-03-31 15:30:05                0                   0   \n",
      "3               3 2023-03-31 15:22:19                1                   0   \n",
      "4               4 2023-03-31 15:18:01                0                   0   \n",
      "5               5 2023-03-31 15:16:18                0                   0   \n",
      "...           ...                 ...              ...                 ...   \n",
      "49996       49996 2023-01-19 12:00:55                0                   0   \n",
      "49997       49997 2023-01-19 11:57:27                0                   0   \n",
      "49998       49998 2023-01-19 11:56:36                1                   1   \n",
      "49999       49999 2023-01-19 11:56:23                0                   0   \n",
      "50000       50000 2023-01-19 11:56:08                0                   0   \n",
      "\n",
      "           Source of Tweet                                             Tweets  \n",
      "0      Twitter for Android   Good evening... More than 24 hours later we s...  \n",
      "2      Twitter for Android   no lights for three  days in Kiambu now and t...  \n",
      "3      Twitter for Android   Hi, no power acc 54600459462 Hillcrest court ...  \n",
      "4      Twitter for Android   what could be the problem, persistent black o...  \n",
      "5      Twitter for Android   lights out acc no 14228420361. Please address...  \n",
      "...                    ...                                                ...  \n",
      "49996  Twitter for Android   Last year I filled a reversal form and up to ...  \n",
      "49997      Twitter Web App   power outage \\na/c  no 54400318124  kindly as...  \n",
      "49998  Twitter for Android   @ca_sharz Kindly sort this issue. It affects ...  \n",
      "49999  Twitter for Android   33534932\\n33534934\\n\\nWant to pay for this tw...  \n",
      "50000  Twitter for Android   There is still no power ,food is going bad an...  \n",
      "\n",
      "[46118 rows x 6 columns]\n"
     ]
    }
   ],
   "source": [
    "# Drop rows where the \"Tweets\" column contains \"check dm\"\n",
    "tweets = tweets[~tweets['Tweets'].str.contains('check DM', case=False)]\n",
    "\n",
    "# Print the updated DataFrame\n",
    "print(tweets)"
   ]
  },
  {
   "cell_type": "code",
   "execution_count": 8,
   "metadata": {
    "scrolled": true
   },
   "outputs": [
    {
     "data": {
      "text/plain": [
       "0"
      ]
     },
     "execution_count": 8,
     "metadata": {},
     "output_type": "execute_result"
    }
   ],
   "source": [
    "dm = tweets['Tweets'].str.contains('check DM', case=False, regex=True)\n",
    "dm.sum()"
   ]
  },
  {
   "cell_type": "code",
   "execution_count": 10,
   "metadata": {},
   "outputs": [
    {
     "name": "stdout",
     "output_type": "stream",
     "text": [
      "Requirement already satisfied: langdetect in /Users/ainirahay/opt/anaconda3/envs/learn-env/lib/python3.8/site-packages (1.0.9)\n",
      "Requirement already satisfied: six in /Users/ainirahay/opt/anaconda3/envs/learn-env/lib/python3.8/site-packages (from langdetect) (1.15.0)\n",
      "Note: you may need to restart the kernel to use updated packages.\n"
     ]
    }
   ],
   "source": [
    "pip install langdetect"
   ]
  },
  {
   "cell_type": "code",
   "execution_count": 12,
   "metadata": {},
   "outputs": [
    {
     "ename": "LangDetectException",
     "evalue": "No features in text.",
     "output_type": "error",
     "traceback": [
      "\u001b[0;31m---------------------------------------------------------------------------\u001b[0m",
      "\u001b[0;31mLangDetectException\u001b[0m                       Traceback (most recent call last)",
      "\u001b[0;32m<ipython-input-12-38b97aebe108>\u001b[0m in \u001b[0;36m<module>\u001b[0;34m\u001b[0m\n\u001b[1;32m      2\u001b[0m \u001b[0;34m\u001b[0m\u001b[0m\n\u001b[1;32m      3\u001b[0m \u001b[0;31m# Filter tweets that contain English language\u001b[0m\u001b[0;34m\u001b[0m\u001b[0;34m\u001b[0m\u001b[0;34m\u001b[0m\u001b[0m\n\u001b[0;32m----> 4\u001b[0;31m \u001b[0mtweets\u001b[0m \u001b[0;34m=\u001b[0m \u001b[0mtweets\u001b[0m\u001b[0;34m[\u001b[0m\u001b[0mtweets\u001b[0m\u001b[0;34m[\u001b[0m\u001b[0;34m'Tweets'\u001b[0m\u001b[0;34m]\u001b[0m\u001b[0;34m.\u001b[0m\u001b[0mapply\u001b[0m\u001b[0;34m(\u001b[0m\u001b[0;32mlambda\u001b[0m \u001b[0mTweets\u001b[0m\u001b[0;34m:\u001b[0m \u001b[0mdetect\u001b[0m\u001b[0;34m(\u001b[0m\u001b[0mTweets\u001b[0m\u001b[0;34m)\u001b[0m \u001b[0;34m==\u001b[0m \u001b[0;34m'en'\u001b[0m\u001b[0;34m)\u001b[0m\u001b[0;34m]\u001b[0m\u001b[0;34m\u001b[0m\u001b[0;34m\u001b[0m\u001b[0m\n\u001b[0m\u001b[1;32m      5\u001b[0m \u001b[0;34m\u001b[0m\u001b[0m\n\u001b[1;32m      6\u001b[0m \u001b[0;31m# Print the filtered DataFrame\u001b[0m\u001b[0;34m\u001b[0m\u001b[0;34m\u001b[0m\u001b[0;34m\u001b[0m\u001b[0m\n",
      "\u001b[0;32m~/opt/anaconda3/envs/learn-env/lib/python3.8/site-packages/pandas/core/series.py\u001b[0m in \u001b[0;36mapply\u001b[0;34m(self, func, convert_dtype, args, **kwds)\u001b[0m\n\u001b[1;32m   4198\u001b[0m             \u001b[0;32melse\u001b[0m\u001b[0;34m:\u001b[0m\u001b[0;34m\u001b[0m\u001b[0;34m\u001b[0m\u001b[0m\n\u001b[1;32m   4199\u001b[0m                 \u001b[0mvalues\u001b[0m \u001b[0;34m=\u001b[0m \u001b[0mself\u001b[0m\u001b[0;34m.\u001b[0m\u001b[0mastype\u001b[0m\u001b[0;34m(\u001b[0m\u001b[0mobject\u001b[0m\u001b[0;34m)\u001b[0m\u001b[0;34m.\u001b[0m\u001b[0m_values\u001b[0m\u001b[0;34m\u001b[0m\u001b[0;34m\u001b[0m\u001b[0m\n\u001b[0;32m-> 4200\u001b[0;31m                 \u001b[0mmapped\u001b[0m \u001b[0;34m=\u001b[0m \u001b[0mlib\u001b[0m\u001b[0;34m.\u001b[0m\u001b[0mmap_infer\u001b[0m\u001b[0;34m(\u001b[0m\u001b[0mvalues\u001b[0m\u001b[0;34m,\u001b[0m \u001b[0mf\u001b[0m\u001b[0;34m,\u001b[0m \u001b[0mconvert\u001b[0m\u001b[0;34m=\u001b[0m\u001b[0mconvert_dtype\u001b[0m\u001b[0;34m)\u001b[0m\u001b[0;34m\u001b[0m\u001b[0;34m\u001b[0m\u001b[0m\n\u001b[0m\u001b[1;32m   4201\u001b[0m \u001b[0;34m\u001b[0m\u001b[0m\n\u001b[1;32m   4202\u001b[0m         \u001b[0;32mif\u001b[0m \u001b[0mlen\u001b[0m\u001b[0;34m(\u001b[0m\u001b[0mmapped\u001b[0m\u001b[0;34m)\u001b[0m \u001b[0;32mand\u001b[0m \u001b[0misinstance\u001b[0m\u001b[0;34m(\u001b[0m\u001b[0mmapped\u001b[0m\u001b[0;34m[\u001b[0m\u001b[0;36m0\u001b[0m\u001b[0;34m]\u001b[0m\u001b[0;34m,\u001b[0m \u001b[0mSeries\u001b[0m\u001b[0;34m)\u001b[0m\u001b[0;34m:\u001b[0m\u001b[0;34m\u001b[0m\u001b[0;34m\u001b[0m\u001b[0m\n",
      "\u001b[0;32mpandas/_libs/lib.pyx\u001b[0m in \u001b[0;36mpandas._libs.lib.map_infer\u001b[0;34m()\u001b[0m\n",
      "\u001b[0;32m<ipython-input-12-38b97aebe108>\u001b[0m in \u001b[0;36m<lambda>\u001b[0;34m(Tweets)\u001b[0m\n\u001b[1;32m      2\u001b[0m \u001b[0;34m\u001b[0m\u001b[0m\n\u001b[1;32m      3\u001b[0m \u001b[0;31m# Filter tweets that contain English language\u001b[0m\u001b[0;34m\u001b[0m\u001b[0;34m\u001b[0m\u001b[0;34m\u001b[0m\u001b[0m\n\u001b[0;32m----> 4\u001b[0;31m \u001b[0mtweets\u001b[0m \u001b[0;34m=\u001b[0m \u001b[0mtweets\u001b[0m\u001b[0;34m[\u001b[0m\u001b[0mtweets\u001b[0m\u001b[0;34m[\u001b[0m\u001b[0;34m'Tweets'\u001b[0m\u001b[0;34m]\u001b[0m\u001b[0;34m.\u001b[0m\u001b[0mapply\u001b[0m\u001b[0;34m(\u001b[0m\u001b[0;32mlambda\u001b[0m \u001b[0mTweets\u001b[0m\u001b[0;34m:\u001b[0m \u001b[0mdetect\u001b[0m\u001b[0;34m(\u001b[0m\u001b[0mTweets\u001b[0m\u001b[0;34m)\u001b[0m \u001b[0;34m==\u001b[0m \u001b[0;34m'en'\u001b[0m\u001b[0;34m)\u001b[0m\u001b[0;34m]\u001b[0m\u001b[0;34m\u001b[0m\u001b[0;34m\u001b[0m\u001b[0m\n\u001b[0m\u001b[1;32m      5\u001b[0m \u001b[0;34m\u001b[0m\u001b[0m\n\u001b[1;32m      6\u001b[0m \u001b[0;31m# Print the filtered DataFrame\u001b[0m\u001b[0;34m\u001b[0m\u001b[0;34m\u001b[0m\u001b[0;34m\u001b[0m\u001b[0m\n",
      "\u001b[0;32m~/opt/anaconda3/envs/learn-env/lib/python3.8/site-packages/langdetect/detector_factory.py\u001b[0m in \u001b[0;36mdetect\u001b[0;34m(text)\u001b[0m\n\u001b[1;32m    128\u001b[0m     \u001b[0mdetector\u001b[0m \u001b[0;34m=\u001b[0m \u001b[0m_factory\u001b[0m\u001b[0;34m.\u001b[0m\u001b[0mcreate\u001b[0m\u001b[0;34m(\u001b[0m\u001b[0;34m)\u001b[0m\u001b[0;34m\u001b[0m\u001b[0;34m\u001b[0m\u001b[0m\n\u001b[1;32m    129\u001b[0m     \u001b[0mdetector\u001b[0m\u001b[0;34m.\u001b[0m\u001b[0mappend\u001b[0m\u001b[0;34m(\u001b[0m\u001b[0mtext\u001b[0m\u001b[0;34m)\u001b[0m\u001b[0;34m\u001b[0m\u001b[0;34m\u001b[0m\u001b[0m\n\u001b[0;32m--> 130\u001b[0;31m     \u001b[0;32mreturn\u001b[0m \u001b[0mdetector\u001b[0m\u001b[0;34m.\u001b[0m\u001b[0mdetect\u001b[0m\u001b[0;34m(\u001b[0m\u001b[0;34m)\u001b[0m\u001b[0;34m\u001b[0m\u001b[0;34m\u001b[0m\u001b[0m\n\u001b[0m\u001b[1;32m    131\u001b[0m \u001b[0;34m\u001b[0m\u001b[0m\n\u001b[1;32m    132\u001b[0m \u001b[0;34m\u001b[0m\u001b[0m\n",
      "\u001b[0;32m~/opt/anaconda3/envs/learn-env/lib/python3.8/site-packages/langdetect/detector.py\u001b[0m in \u001b[0;36mdetect\u001b[0;34m(self)\u001b[0m\n\u001b[1;32m    134\u001b[0m         \u001b[0mwhich\u001b[0m \u001b[0mhas\u001b[0m \u001b[0mthe\u001b[0m \u001b[0mhighest\u001b[0m \u001b[0mprobability\u001b[0m\u001b[0;34m.\u001b[0m\u001b[0;34m\u001b[0m\u001b[0;34m\u001b[0m\u001b[0m\n\u001b[1;32m    135\u001b[0m         '''\n\u001b[0;32m--> 136\u001b[0;31m         \u001b[0mprobabilities\u001b[0m \u001b[0;34m=\u001b[0m \u001b[0mself\u001b[0m\u001b[0;34m.\u001b[0m\u001b[0mget_probabilities\u001b[0m\u001b[0;34m(\u001b[0m\u001b[0;34m)\u001b[0m\u001b[0;34m\u001b[0m\u001b[0;34m\u001b[0m\u001b[0m\n\u001b[0m\u001b[1;32m    137\u001b[0m         \u001b[0;32mif\u001b[0m \u001b[0mprobabilities\u001b[0m\u001b[0;34m:\u001b[0m\u001b[0;34m\u001b[0m\u001b[0;34m\u001b[0m\u001b[0m\n\u001b[1;32m    138\u001b[0m             \u001b[0;32mreturn\u001b[0m \u001b[0mprobabilities\u001b[0m\u001b[0;34m[\u001b[0m\u001b[0;36m0\u001b[0m\u001b[0;34m]\u001b[0m\u001b[0;34m.\u001b[0m\u001b[0mlang\u001b[0m\u001b[0;34m\u001b[0m\u001b[0;34m\u001b[0m\u001b[0m\n",
      "\u001b[0;32m~/opt/anaconda3/envs/learn-env/lib/python3.8/site-packages/langdetect/detector.py\u001b[0m in \u001b[0;36mget_probabilities\u001b[0;34m(self)\u001b[0m\n\u001b[1;32m    141\u001b[0m     \u001b[0;32mdef\u001b[0m \u001b[0mget_probabilities\u001b[0m\u001b[0;34m(\u001b[0m\u001b[0mself\u001b[0m\u001b[0;34m)\u001b[0m\u001b[0;34m:\u001b[0m\u001b[0;34m\u001b[0m\u001b[0;34m\u001b[0m\u001b[0m\n\u001b[1;32m    142\u001b[0m         \u001b[0;32mif\u001b[0m \u001b[0mself\u001b[0m\u001b[0;34m.\u001b[0m\u001b[0mlangprob\u001b[0m \u001b[0;32mis\u001b[0m \u001b[0;32mNone\u001b[0m\u001b[0;34m:\u001b[0m\u001b[0;34m\u001b[0m\u001b[0;34m\u001b[0m\u001b[0m\n\u001b[0;32m--> 143\u001b[0;31m             \u001b[0mself\u001b[0m\u001b[0;34m.\u001b[0m\u001b[0m_detect_block\u001b[0m\u001b[0;34m(\u001b[0m\u001b[0;34m)\u001b[0m\u001b[0;34m\u001b[0m\u001b[0;34m\u001b[0m\u001b[0m\n\u001b[0m\u001b[1;32m    144\u001b[0m         \u001b[0;32mreturn\u001b[0m \u001b[0mself\u001b[0m\u001b[0;34m.\u001b[0m\u001b[0m_sort_probability\u001b[0m\u001b[0;34m(\u001b[0m\u001b[0mself\u001b[0m\u001b[0;34m.\u001b[0m\u001b[0mlangprob\u001b[0m\u001b[0;34m)\u001b[0m\u001b[0;34m\u001b[0m\u001b[0;34m\u001b[0m\u001b[0m\n\u001b[1;32m    145\u001b[0m \u001b[0;34m\u001b[0m\u001b[0m\n",
      "\u001b[0;32m~/opt/anaconda3/envs/learn-env/lib/python3.8/site-packages/langdetect/detector.py\u001b[0m in \u001b[0;36m_detect_block\u001b[0;34m(self)\u001b[0m\n\u001b[1;32m    148\u001b[0m         \u001b[0mngrams\u001b[0m \u001b[0;34m=\u001b[0m \u001b[0mself\u001b[0m\u001b[0;34m.\u001b[0m\u001b[0m_extract_ngrams\u001b[0m\u001b[0;34m(\u001b[0m\u001b[0;34m)\u001b[0m\u001b[0;34m\u001b[0m\u001b[0;34m\u001b[0m\u001b[0m\n\u001b[1;32m    149\u001b[0m         \u001b[0;32mif\u001b[0m \u001b[0;32mnot\u001b[0m \u001b[0mngrams\u001b[0m\u001b[0;34m:\u001b[0m\u001b[0;34m\u001b[0m\u001b[0;34m\u001b[0m\u001b[0m\n\u001b[0;32m--> 150\u001b[0;31m             \u001b[0;32mraise\u001b[0m \u001b[0mLangDetectException\u001b[0m\u001b[0;34m(\u001b[0m\u001b[0mErrorCode\u001b[0m\u001b[0;34m.\u001b[0m\u001b[0mCantDetectError\u001b[0m\u001b[0;34m,\u001b[0m \u001b[0;34m'No features in text.'\u001b[0m\u001b[0;34m)\u001b[0m\u001b[0;34m\u001b[0m\u001b[0;34m\u001b[0m\u001b[0m\n\u001b[0m\u001b[1;32m    151\u001b[0m \u001b[0;34m\u001b[0m\u001b[0m\n\u001b[1;32m    152\u001b[0m         \u001b[0mself\u001b[0m\u001b[0;34m.\u001b[0m\u001b[0mlangprob\u001b[0m \u001b[0;34m=\u001b[0m \u001b[0;34m[\u001b[0m\u001b[0;36m0.0\u001b[0m\u001b[0;34m]\u001b[0m \u001b[0;34m*\u001b[0m \u001b[0mlen\u001b[0m\u001b[0;34m(\u001b[0m\u001b[0mself\u001b[0m\u001b[0;34m.\u001b[0m\u001b[0mlanglist\u001b[0m\u001b[0;34m)\u001b[0m\u001b[0;34m\u001b[0m\u001b[0;34m\u001b[0m\u001b[0m\n",
      "\u001b[0;31mLangDetectException\u001b[0m: No features in text."
     ]
    }
   ],
   "source": [
    "from langdetect import detect\n",
    "\n",
    "# Filter tweets that contain English language\n",
    "tweets = tweets[tweets['Tweets'].apply(lambda Tweets: detect(Tweets) == 'en')]\n",
    "\n",
    "# Print the filtered DataFrame\n",
    "print(tweets)\n"
   ]
  },
  {
   "cell_type": "code",
   "execution_count": null,
   "metadata": {},
   "outputs": [],
   "source": []
  }
 ],
 "metadata": {
  "kernelspec": {
   "display_name": "Python (learn-env)",
   "language": "python",
   "name": "learn-env"
  },
  "language_info": {
   "codemirror_mode": {
    "name": "ipython",
    "version": 3
   },
   "file_extension": ".py",
   "mimetype": "text/x-python",
   "name": "python",
   "nbconvert_exporter": "python",
   "pygments_lexer": "ipython3",
   "version": "3.8.5"
  }
 },
 "nbformat": 4,
 "nbformat_minor": 4
}
